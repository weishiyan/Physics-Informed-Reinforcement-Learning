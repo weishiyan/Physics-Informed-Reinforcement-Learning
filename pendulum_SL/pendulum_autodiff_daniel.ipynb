{
 "cells": [
  {
   "cell_type": "code",
   "execution_count": 1,
   "metadata": {},
   "outputs": [],
   "source": [
    "%matplotlib inline\n",
    "import tensorflow as tf\n",
    "import numpy as np\n",
    "import time \n",
    "from pyDOE import lhs\n",
    "from datetime import datetime\n",
    "from IPython import display\n",
    "import matplotlib.pyplot as plt"
   ]
  },
  {
   "cell_type": "code",
   "execution_count": 2,
   "metadata": {},
   "outputs": [],
   "source": [
    "# dummy/Struct gives Lua-like struct object with 0 defaults\n",
    "class dummy(object):\n",
    "    pass"
   ]
  },
  {
   "cell_type": "code",
   "execution_count": 3,
   "metadata": {},
   "outputs": [],
   "source": [
    "class Struct(dummy):\n",
    "    def __getattribute__(self, key):\n",
    "        if key == '__dict__':\n",
    "            return super(dummy, self).__getattribute__('__dict__')\n",
    "        return self.__dict__.get(key, 0)"
   ]
  },
  {
   "cell_type": "code",
   "execution_count": 4,
   "metadata": {},
   "outputs": [],
   "source": [
    "OMEGA = 1\n",
    "THETA_0 = 1"
   ]
  },
  {
   "cell_type": "code",
   "execution_count": 5,
   "metadata": {},
   "outputs": [],
   "source": [
    "# Data size on the solution u\n",
    "N_u = 500\n",
    "# Collocation points size, where we’ll check for f = 0\n",
    "N_f = 10000\n",
    "\n",
    "\n",
    "# DeepNN topology (1-sized input [t], 8 hidden layer of 20-width, 1-sized output [u]\n",
    "list_of_layers = []\n",
    "# [1, 80x8, 1]\n",
    "max_node = 80  # List size\n",
    "num_list = 1  # number of layer list\n",
    "num_hidden = 3  # number of hidden layers\n",
    "interval = max_node/num_list\n",
    "\n",
    "for i in range(num_list):\n",
    "    temp_list = [1]\n",
    "    # Number of hidden layers\n",
    "    for j in range(num_hidden):\n",
    "        temp_list.append(max_node)\n",
    "    temp_list.append(1)\n",
    "    max_node -= interval\n",
    "    list_of_layers.append(temp_list)\n",
    "\n",
    "# Setting up the TF SGD-based optimizer (set tf_epochs=0 to cancel it)\n",
    "tf_epochs = 5000\n",
    "lr = 0.0001\n",
    "beta1=0.9\n",
    "eps = 0.1\n",
    "noise = 0.01\n",
    "tf_optimizer = tf.keras.optimizers.Adam(learning_rate=lr,\n",
    "                                        beta_1=beta1,\n",
    "                                        epsilon=eps)\n",
    "\n",
    "# # Setting up the quasi-newton LBGFS optimizer (set nt_epochs=0 to cancel it)\n",
    "# nt_epochs = 2000\n",
    "# nt_config = Struct()\n",
    "# nt_config.learningRate = 0.8\n",
    "# nt_config.maxIter = nt_epochs\n",
    "# nt_config.nCorrection = 50\n",
    "# nt_config.tolFun = 1.0 * np.finfo(float).eps"
   ]
  },
  {
   "cell_type": "code",
   "execution_count": 6,
   "metadata": {},
   "outputs": [],
   "source": [
    "def prep_data(N_u, N_f, noise=0.0):\n",
    "    # Domain bounds (lowerbounds upperbounds) [x, t], which are here ([-1.0, 0.0] and [1.0, 1.0])\n",
    "#     lb = 0\n",
    "#     ub = num_pi *np.pi\n",
    "#     # Generating the t points for f with a N_f size\n",
    "#     # We pointwise add and multiply to spread the LHS over the domain\n",
    "#     X_f = lb + (ub - lb) * lhs(1, N_f)\n",
    "#     Exact_u = THETA_0*np.cos(OMEGA*X_f)\n",
    "#     X_u_train = lb + (ub - lb) * lhs(1, N_f)\n",
    "#     u_train = THETA_0*np.cos(OMEGA*X_u_train) + noise*np.random.randn(N_f, 1)\n",
    "    \n",
    "    npz = np.load(\"Deep_Deterministic_Policy_Gradients_notebooks/data/single_action_0.5_pendulum_data_L100.npz\", allow_pickle=True)\n",
    "    # Loading data and ordering it to N x 1 array\n",
    "    states = npz[\"states\"]\n",
    "    theta = states[:,1][:, None] - np.pi\n",
    "    times = npz[\"time\"][:,None]\n",
    "    \n",
    "#     # Trying something out with more dense x-axis\n",
    "#     list_size = theta.shape[0]\n",
    "#     steps = 0.01\n",
    "#     times = [x*steps for x in range(list_size)]\n",
    "#     times = np.array(times) \n",
    "#     times = times[:, None]\n",
    "    \n",
    "    # Adding noise\n",
    "    mu, sigma = 0, noise\n",
    "    # give same shape as data\n",
    "    random_noise = np.random.normal(mu, sigma, [len(theta)])\n",
    "    theta = theta + random_noise[:, None]\n",
    "    \n",
    "    \n",
    "    \n",
    "    # Reduce data set size for testing\n",
    "    theta_train = theta[:N_u]\n",
    "    time_train = times[:N_u]\n",
    "    \n",
    "    lb = times.min(axis=0)\n",
    "    ub = times.max(axis=0)\n",
    "#     time_train = lb + (ub - lb) * lhs(1, N_u)\n",
    "    \n",
    "    return times, theta, time_train, theta_train, lb, ub"
   ]
  },
  {
   "cell_type": "code",
   "execution_count": 7,
   "metadata": {},
   "outputs": [],
   "source": [
    "class Logger(object):\n",
    "    def __init__(self, frequency=10):\n",
    "        print(\"TensorFlow version: {}\".format(tf.__version__))\n",
    "        print(\"Eager execution: {}\".format(tf.executing_eagerly()))\n",
    "        print(\"GPU-accerelated: {}\".format(tf.test.is_gpu_available()))\n",
    "\n",
    "        self.start_time = time.time()\n",
    "        self.frequency = frequency\n",
    "\n",
    "    def __get_elapsed(self):\n",
    "        return datetime.fromtimestamp(time.time() -\n",
    "                                      self.start_time).strftime(\"%M:%S\")\n",
    "\n",
    "    def __get_error_u(self):\n",
    "        return self.error_fn()\n",
    "    \n",
    "    def log_time(self):\n",
    "        return time.time() - self.start_time\n",
    "#         return datetime.fromtimestamp(time.time() -\n",
    "#                                       self.start_time)\n",
    "    \n",
    "    def set_error_fn(self, error_fn):\n",
    "        self.error_fn = error_fn\n",
    "\n",
    "    def log_train_start(self, model):\n",
    "        print(\"\\nTraining started\")\n",
    "        print(\"================\")\n",
    "        self.model = model\n",
    "        print(self.model.summary())\n",
    "\n",
    "    def log_train_epoch(self, epoch, loss, custom=\"\", is_iter=False):\n",
    "        if epoch % self.frequency == 0:\n",
    "            print(\n",
    "                f\"{'nt_epoch' if is_iter else 'tf_epoch'} = {epoch:6d}  elapsed = {self.__get_elapsed()}  loss = {loss:.4e}  error = {self.__get_error_u():.4e}  \"\n",
    "                + custom)\n",
    "\n",
    "    def log_train_opt(self, name):\n",
    "        # print(f\"tf_epoch =      0  elapsed = 00:00  loss = 2.7391e-01  error = 9.0843e-01\")\n",
    "        print(f\"—— Starting {name} optimization ——\")\n",
    "\n",
    "    def log_train_end(self, epoch, custom=\"\"):\n",
    "        print(\"==================\")\n",
    "        print(\n",
    "            f\"Training finished (epoch {epoch}): duration = {self.__get_elapsed()}  error = {self.__get_error_u():.4e}  \"\n",
    "            + custom)"
   ]
  },
  {
   "cell_type": "code",
   "execution_count": 8,
   "metadata": {},
   "outputs": [],
   "source": [
    "# Time tracking functions\n",
    "global_time_list = []\n",
    "global_last_time = 0"
   ]
  },
  {
   "cell_type": "code",
   "execution_count": 9,
   "metadata": {},
   "outputs": [],
   "source": [
    "def reset_time():\n",
    "    global global_time_list, global_last_time\n",
    "    global_time_list = []\n",
    "    global_last_time = time.perf_counter()"
   ]
  },
  {
   "cell_type": "code",
   "execution_count": 10,
   "metadata": {},
   "outputs": [],
   "source": [
    "def record_time():\n",
    "    global global_last_time, global_time_list\n",
    "    new_time = time.perf_counter()\n",
    "    global_time_list.append(new_time - global_last_time)\n",
    "    global_last_time = time.perf_counter()\n",
    "    #print(\"step: %.2f\"%(global_time_list[-1]*1000))"
   ]
  },
  {
   "cell_type": "code",
   "execution_count": 11,
   "metadata": {},
   "outputs": [],
   "source": [
    "def last_time():\n",
    "    \"\"\"Returns last interval records in millis.\"\"\"\n",
    "    global global_last_time, global_time_list\n",
    "    if global_time_list:\n",
    "        return 1000 * global_time_list[-1]\n",
    "    else:\n",
    "        return 0"
   ]
  },
  {
   "cell_type": "code",
   "execution_count": 12,
   "metadata": {},
   "outputs": [],
   "source": [
    "def dot(a, b):\n",
    "    \"\"\"Dot product function since TensorFlow doesn't have one.\"\"\"\n",
    "    return tf.reduce_sum(a * b)"
   ]
  },
  {
   "cell_type": "code",
   "execution_count": 13,
   "metadata": {},
   "outputs": [],
   "source": [
    "def verbose_func(s):\n",
    "    print(s)"
   ]
  },
  {
   "cell_type": "code",
   "execution_count": 14,
   "metadata": {},
   "outputs": [],
   "source": [
    "class PhysicsInformedNN(object):\n",
    "    def __init__(self, layers, optimizer, logger, X_f, ub, lb, nu):\n",
    "        # Descriptive Keras model [2, 20, …, 20, 1]\n",
    "        self.u_model = tf.keras.Sequential()\n",
    "        self.u_model.add(tf.keras.layers.InputLayer(input_shape=(layers[0],)))\n",
    "#         self.u_model.add(tf.keras.layers.Lambda(lambda X: 2.0*(X - lb)/(ub - lb) - 1.0))\n",
    "        for width in layers[1:]:\n",
    "            self.u_model.add(tf.keras.layers.Dense(\n",
    "              width, activation=tf.nn.tanh,\n",
    "              kernel_initializer='glorot_normal'))\n",
    "\n",
    "#         self.u_model.add(\n",
    "#             tf.keras.layers.Dense(1, activation=\"linear\")\n",
    "#         )\n",
    "        \n",
    "        # Computing the sizes of weights/biases for future decomposition\n",
    "        self.sizes_w = []\n",
    "        self.sizes_b = []\n",
    "        for i, width in enumerate(layers):\n",
    "            if i != 1:\n",
    "                self.sizes_w.append(int(width * layers[1]))\n",
    "                self.sizes_b.append(int(width if i != 0 else layers[1]))\n",
    "\n",
    "        self.nu = nu\n",
    "        self.optimizer = optimizer\n",
    "        self.logger = logger\n",
    "\n",
    "        self.dtype = tf.float32\n",
    "\n",
    "        # Separating the collocation coordinates\n",
    "        self.t_f = tf.convert_to_tensor(X_f, dtype=self.dtype)\n",
    "\n",
    "    # Defining custom loss\n",
    "    def __loss(self, u, u_pred):\n",
    "        f_pred = self.f_model()\n",
    "        return tf.reduce_sum(tf.square(u - u_pred)) # + tf.reduce_sum(tf.square(f_pred))\n",
    "\n",
    "    def __grad(self, X, u):\n",
    "        with tf.GradientTape() as tape:\n",
    "            loss_value = self.__loss(u, self.u_model(X))\n",
    "        return loss_value, tape.gradient(loss_value, self.u_model.trainable_variables)\n",
    "\n",
    "    # The actual PINN\n",
    "    def f_model(self):\n",
    "        # Using the new GradientTape paradigm of TF2.0,\n",
    "        # which keeps track of operations to get the gradient at runtime\n",
    "        with tf.GradientTape(persistent=True) as tape:\n",
    "            # Watching the input we’ll need later, t\n",
    "            tape.watch(self.t_f)\n",
    "            # Getting the prediction\n",
    "            u = self.u_model(self.t_f)\n",
    "            # Deriving INSIDE the tape (since we’ll need the t derivative of this later, u_tt)\n",
    "            u_t = tape.gradient(u, self.t_f)\n",
    "\n",
    "        # Getting the other derivatives\n",
    "        u_tt = tape.gradient(u_t, self.t_f)\n",
    "        \n",
    "        del tape\n",
    "        \n",
    "        # Buidling the PINNs\n",
    "        return u_tt + 10.*np.sin(u)\n",
    "\n",
    "    def get_weights(self):\n",
    "        w = []\n",
    "        for layer in self.u_model.layers[1:]:\n",
    "            weights_biases = layer.get_weights()\n",
    "            weights = weights_biases[0].flatten()\n",
    "            biases = weights_biases[1]\n",
    "            w.extend(weights)\n",
    "            w.extend(biases)\n",
    "        return tf.convert_to_tensor(w, dtype=self.dtype)\n",
    "\n",
    "    def set_weights(self, w):\n",
    "        for i, layer in enumerate(self.u_model.layers[1:]):\n",
    "            start_weights = sum(self.sizes_w[:i]) + sum(self.sizes_b[:i])\n",
    "            end_weights = sum(self.sizes_w[:i+1]) + sum(self.sizes_b[:i])\n",
    "            weights = w[start_weights:end_weights]\n",
    "            w_div = int(self.sizes_w[i] / self.sizes_b[i])\n",
    "            weights = tf.reshape(weights, [w_div, self.sizes_b[i]])\n",
    "            biases = w[end_weights:end_weights + self.sizes_b[i]]\n",
    "            weights_biases = [weights, biases]\n",
    "            layer.set_weights(weights_biases)\n",
    "\n",
    "    def summary(self):\n",
    "        return self.u_model.summary()\n",
    "\n",
    "    # The training function\n",
    "    def fit(self, X_u, u, tf_epochs=5000, nt_config=Struct()):\n",
    "        self.logger.log_train_start(self)\n",
    "\n",
    "        # Creating the tensors\n",
    "        X_u = tf.convert_to_tensor(X_u, dtype=self.dtype)\n",
    "        u = tf.convert_to_tensor(u, dtype=self.dtype)\n",
    "        self.logger.log_train_opt(\"Adam\")\n",
    "        for epoch in range(tf_epochs):\n",
    "            # Optimization step\n",
    "            loss_value, grads = self.__grad(X_u, u)\n",
    "#             print(loss_value)\n",
    "            self.optimizer.apply_gradients(zip(grads, self.u_model.trainable_variables))\n",
    "            self.logger.log_train_epoch(epoch, loss_value)\n",
    "            if epoch == tf_epochs - 1:\n",
    "                final_loss.append(loss_value.numpy())\n",
    "            if epoch % 10 == 0:\n",
    "                plt.clf()\n",
    "                plt.scatter(X_u, u, marker='.')\n",
    "                plt.scatter(X_u, self.u_model(X_u), marker='.')\n",
    "                display.display(plt.gcf())\n",
    "                display.clear_output(wait=True)\n",
    "#                 plt.show()\n",
    "\n",
    "\n",
    "        def loss_and_flat_grad(w):\n",
    "            with tf.GradientTape() as tape:\n",
    "                self.set_weights(w)\n",
    "                loss_value = self.__loss(u, self.u_model(X_u))\n",
    "            grad = tape.gradient(loss_value, self.u_model.trainable_variables)\n",
    "            grad_flat = []\n",
    "            for g in grad:\n",
    "                grad_flat.append(tf.reshape(g, [-1]))\n",
    "            grad_flat =  tf.concat(grad_flat, 0)\n",
    "            return loss_value, grad_flat\n",
    "\n",
    "\n",
    "        self.logger.log_train_end(tf_epochs)\n",
    "\n",
    "    def predict(self, X_star):\n",
    "        u_star = self.u_model(X_star)\n",
    "        f_star = self.f_model()\n",
    "        return u_star, f_star"
   ]
  },
  {
   "cell_type": "code",
   "execution_count": 15,
   "metadata": {},
   "outputs": [
    {
     "data": {
      "text/plain": [
       "'## Training and plotting the results'"
      ]
     },
     "execution_count": 15,
     "metadata": {},
     "output_type": "execute_result"
    }
   ],
   "source": [
    "\"\"\"## Training and plotting the results\"\"\""
   ]
  },
  {
   "cell_type": "code",
   "execution_count": 16,
   "metadata": {},
   "outputs": [],
   "source": [
    "# # Creating the model and training\n",
    "# logger = Logger(frequency=10)\n",
    "# # x, t, Exact_u, X_star, u_star, X_u_train, u_train, X_f, ub, lb = prep_data(path, N_u, N_f, noise=0.0)\n",
    "# X_f, Exact_u, X_u_train, u_train, lb, ub = prep_data(N_u, N_f, noise=noise)\n",
    "# # plt.plot(Exact_u, \".\")\n",
    "# print(X_u_train.shape, u_train.shape)\n",
    "# plt.scatter(X_u_train, u_train, marker='.')\n",
    "# plt.show()"
   ]
  },
  {
   "cell_type": "code",
   "execution_count": 18,
   "metadata": {
    "scrolled": false
   },
   "outputs": [
    {
     "name": "stdout",
     "output_type": "stream",
     "text": [
      "==================\n",
      "Training finished (epoch 5000): duration = 02:41  error = 1.3937e+00  \n",
      "For the [1, 80, 80, 80, 1] layer data: \n",
      "Average loss: 14.214595794677734\n",
      "Average time: 150.07133333333334\n",
      " \n"
     ]
    },
    {
     "data": {
      "image/png": "[encoded data removed]",
      "text/plain": [
       "<Figure size 432x288 with 1 Axes>"
      ]
     },
     "metadata": {
      "needs_background": "light"
     },
     "output_type": "display_data"
    }
   ],
   "source": [
    "final_loss = []\n",
    "\n",
    "# list of average loss for each layer\n",
    "layer_avg_loss = []\n",
    "layer_avg_time = []\n",
    "\n",
    "n_times = 3\n",
    "for layers in list_of_layers:\n",
    "    final_loss = []\n",
    "    average_time = []\n",
    "    for i in range(n_times):\n",
    "        # Creating the model and training\n",
    "        logger = Logger(frequency=10)\n",
    "        # x, t, Exact_u, X_star, u_star, X_u_train, u_train, X_f, ub, lb = prep_data(path, N_u, N_f, noise=0.0)\n",
    "        X_f, Exact_u, X_u_train, u_train, lb, ub = prep_data(N_u, N_f, noise=noise)\n",
    "\n",
    "        pinn = PhysicsInformedNN(layers, tf_optimizer, logger, X_u_train, ub, lb, nu=OMEGA**2)\n",
    "        def error():\n",
    "            u_pred, _ = pinn.predict(X_f)\n",
    "            return np.linalg.norm(Exact_u - u_pred, 2) / np.linalg.norm(Exact_u, 2)\n",
    "        logger.set_error_fn(error)\n",
    "        pinn.fit(X_u_train, u_train, tf_epochs)\n",
    "        final_time = round(logger.log_time(), 3)\n",
    "        average_time.append(final_time)\n",
    "\n",
    "        # Getting the model predictions, from the same (x,t) that the predictions were previously gotten from\n",
    "        u_pred, f_pred = pinn.predict(X_f)\n",
    "        plt.figure(figsize=(10,7))\n",
    "        plt.scatter(X_u_train, u_train, label=\"input\", marker='.')\n",
    "        plt.scatter(X_f[:N_u], u_pred[:N_u], label=\"predicted\", marker='.')\n",
    "        plt.title(f\"Data vs Predicted\")\n",
    "        plt.legend(loc=\"upper right\")\n",
    "        \n",
    "        plt.savefig(f\"./data/layers{layers}_{N_u}DataPoints_loss{str(round(final_loss[-1],3))}_time{final_time}_epoch{tf_epochs}_lr{lr}_beta{beta1}_eps{eps}_noise{noise}.jpg\", dpi=300)\n",
    "        # plt.show()\n",
    "        plt.cla()\n",
    "        plt.clf()\n",
    "        plt.close()\n",
    "        \n",
    "\n",
    "    layer_avg_loss.append(np.average(final_loss))\n",
    "    layer_avg_time.append(np.average(average_time))\n",
    "    \n",
    "for i in range(len(list_of_layers)):\n",
    "    print(f\"For the {list_of_layers[i]} layer data: \")\n",
    "    print(f\"Average loss: {layer_avg_loss[i]}\")\n",
    "    print(f\"Average time: {layer_avg_time[i]}\")\n",
    "    print(\" \")"
   ]
  },
  {
   "cell_type": "code",
   "execution_count": null,
   "metadata": {
    "scrolled": false
   },
   "outputs": [],
   "source": [
    "# pinn = PhysicsInformedNN(layers, tf_optimizer, logger, X_u_train, ub, lb, nu=OMEGA**2)\n",
    "# def error():\n",
    "#     u_pred, _ = pinn.predict(X_f)\n",
    "#     return np.linalg.norm(Exact_u - u_pred, 2) / np.linalg.norm(Exact_u, 2)\n",
    "# logger.set_error_fn(error)\n",
    "# pinn.fit(X_u_train, u_train, tf_epochs)"
   ]
  },
  {
   "cell_type": "code",
   "execution_count": null,
   "metadata": {},
   "outputs": [],
   "source": [
    "# # Getting the model predictions, from the same (x,t) that the predictions were previously gotten from\n",
    "# u_pred, f_pred = pinn.predict(X_f)\n",
    "# plt.scatter(X_u_train, u_train, label=\"input\", marker='.')\n",
    "# plt.scatter(X_f[:N_u], u_pred[:N_u], label=\"predicted\", marker='.')\n",
    "# plt.title(\"Data vs Predicted (4pi)\")\n",
    "# plt.legend(loc=\"upper right\")\n",
    "# plt.savefig(f\"./data/layers{layers}\")"
   ]
  },
  {
   "cell_type": "code",
   "execution_count": null,
   "metadata": {},
   "outputs": [],
   "source": []
  },
  {
   "cell_type": "code",
   "execution_count": null,
   "metadata": {},
   "outputs": [],
   "source": []
  },
  {
   "cell_type": "code",
   "execution_count": null,
   "metadata": {},
   "outputs": [],
   "source": []
  },
  {
   "cell_type": "code",
   "execution_count": null,
   "metadata": {},
   "outputs": [],
   "source": []
  },
  {
   "cell_type": "code",
   "execution_count": null,
   "metadata": {},
   "outputs": [],
   "source": []
  },
  {
   "cell_type": "markdown",
   "metadata": {},
   "source": [
    "# plot_inf_cont_results(X_star, u_pred.numpy().flatten(), X_u_train, u_train,\n",
    "#   Exact_u, X, T, x, t)"
   ]
  },
  {
   "cell_type": "code",
   "execution_count": null,
   "metadata": {},
   "outputs": [],
   "source": []
  }
 ],
 "metadata": {
  "jupytext": {
   "cell_metadata_filter": "-all",
   "formats": "Rmd,ipynb",
   "notebook_metadata_filter": "-all",
   "text_representation": {
    "extension": ".Rmd",
    "format_name": "rmarkdown"
   }
  },
  "kernelspec": {
   "display_name": "Python 3",
   "language": "python",
   "name": "python3"
  },
  "language_info": {
   "codemirror_mode": {
    "name": "ipython",
    "version": 3
   },
   "file_extension": ".py",
   "mimetype": "text/x-python",
   "name": "python",
   "nbconvert_exporter": "python",
   "pygments_lexer": "ipython3",
   "version": "3.7.7"
  }
 },
 "nbformat": 4,
 "nbformat_minor": 4
}
